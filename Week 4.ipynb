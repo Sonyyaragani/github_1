{
 "cells": [
  {
   "cell_type": "markdown",
   "metadata": {
    "collapsed": true
   },
   "source": [
    "# Using Machine Learning to find locations to open a Burmese Restaurant"
   ]
  },
  {
   "cell_type": "markdown",
   "metadata": {},
   "source": [
    "# SONY YARAGANI (www.github.com/Sonyyaragani)"
   ]
  },
  {
   "cell_type": "markdown",
   "metadata": {},
   "source": [
    "# 1.Introduction"
   ]
  },
  {
   "cell_type": "markdown",
   "metadata": {},
   "source": [
    "## 1.1Background"
   ]
  },
  {
   "cell_type": "markdown",
   "metadata": {},
   "source": [
    "##                           For this Capstone project, I am creating a hypothetical scenario for a concept Burmese restauranter who wants to explore opening an authentic Burmese restaurant in Toronto area. The idea behind this project is that there may not be enough Burmese restaurants in Toronto and it might present a great opportunity for this enterpreneur who is based in Canada. As Burmese food is very similar to other Asian cusines, their enterpreneur is thinking of opening this restaurant in locations where Asian food is popular . With the purpose in mind, finding the location to open such a restaurant is one of the most important decisions for this enterpreneur and I am designing this project to help him find the most suitable location."
   ]
  },
  {
   "cell_type": "markdown",
   "metadata": {},
   "source": [
    "## 1.2 Business Problem"
   ]
  },
  {
   "cell_type": "markdown",
   "metadata": {},
   "source": [
    "## The objective of this Capstone project is to find the most suitable location for the enterpreneur to open a new Burmese restaurant in Toronto, Canada. By using data science methods and machine learning methods such as clustering , this project aims to provide solutions to answer the business question: In Tornoto, if an enterpreneur wants to open a Burmese restaurant where should they consider opening it? "
   ]
  },
  {
   "cell_type": "markdown",
   "metadata": {},
   "source": [
    "## 1.3 Target Audience"
   ]
  },
  {
   "cell_type": "markdown",
   "metadata": {},
   "source": [
    "## The enterpreneur who wants to find the location to open authentic Burmese restaurant"
   ]
  },
  {
   "cell_type": "markdown",
   "metadata": {},
   "source": [
    "# 2.Data"
   ]
  },
  {
   "cell_type": "markdown",
   "metadata": {},
   "source": [
    "## To slove this problem, I will need following data:\n",
    "##  > List of neighbourhoods in Tornoto, Canada.\n",
    "##  > Latitude and Longitude of these neighbourhoods.\n",
    "##  > Venue data related to Asian restaurants. This will help us find the neighbourhoods that are most suitable to open a Burmese restaurant. "
   ]
  },
  {
   "cell_type": "markdown",
   "metadata": {},
   "source": [
    "# 3. Extracting Data"
   ]
  },
  {
   "cell_type": "markdown",
   "metadata": {},
   "source": [
    "## > Scrapping of Tornoto neighbourhoods via Wikipedia.\n",
    "## > Getting Latitude and Longitude data of these neighbourhoods via Geocoder package.\n",
    "## > Using Foursquare API to get venue data related to these neighbourhoods."
   ]
  }
 ],
 "metadata": {
  "kernelspec": {
   "display_name": "Python 3.6",
   "language": "python",
   "name": "python3"
  },
  "language_info": {
   "codemirror_mode": {
    "name": "ipython",
    "version": 3
   },
   "file_extension": ".py",
   "mimetype": "text/x-python",
   "name": "python",
   "nbconvert_exporter": "python",
   "pygments_lexer": "ipython3",
   "version": "3.6.9"
  }
 },
 "nbformat": 4,
 "nbformat_minor": 1
}
